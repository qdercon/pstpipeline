{
 "cells": [
  {
   "cell_type": "markdown",
   "id": "horizontal-steal",
   "metadata": {},
   "source": [
    "## Setup and data cleaning, plus transdiagnostic factor derivation"
   ]
  },
  {
   "cell_type": "markdown",
   "id": "later-costume",
   "metadata": {},
   "source": [
    "### Setup"
   ]
  },
  {
   "cell_type": "markdown",
   "id": "local-tractor",
   "metadata": {},
   "source": [
    "**Import Python dependencies**"
   ]
  },
  {
   "cell_type": "code",
   "execution_count": 1,
   "id": "premier-valve",
   "metadata": {},
   "outputs": [
    {
     "name": "stderr",
     "output_type": "stream",
     "text": [
      "C:\\JupyterLab\\resources\\jlab_server\\lib\\site-packages\\rpy2\\robjects\\packages.py:366: UserWarning: The symbol 'quartz' is not in this R namespace/package.\n",
      "  warnings.warn(\n"
     ]
    }
   ],
   "source": [
    "import pandas as pd\n",
    "import joblib, os, rpy2\n",
    "os.chdir('..')\n",
    "    # as the wd will be the notebook folder otherwise\n",
    "%load_ext rpy2.ipython\n",
    "    # warnings about 'quartz' on Windows can be safely ignored.\n",
    "\n",
    "pal = ['#ffa630', '#42bfdd', '#ef3e36', '#745296','#f08080','#d17a22']\n",
    "light_pal = ['#ffc9b5', '#b1ddf1', '#7871aa']"
   ]
  },
  {
   "cell_type": "markdown",
   "id": "recovered-campaign",
   "metadata": {},
   "source": [
    "### Import and clean raw data"
   ]
  },
  {
   "cell_type": "code",
   "execution_count": 101,
   "id": "german-concentration",
   "metadata": {
    "tags": [
     "remove_output"
    ]
   },
   "outputs": [
    {
     "name": "stdout",
     "output_type": "stream",
     "text": [
      "i Loading pstpipeline\n"
     ]
    }
   ],
   "source": [
    "%%R\n",
    "devtools::load_all()\n",
    "\n",
    "# single <- pstpipeline::import_single(\"data/example_res_single.txt\", plot = TRUE, add_sex= TRUE)\n",
    "# multiple <- pstpipeline::import_multiple(\"data/example_res_multiple.txt\", separate = FALSE, indiv = TRUE)\n",
    "# plot_id1 <- pstpipeline::plot_single(subjID = 1, multiple)\n",
    "\n",
    "# all_res_split <- pstpipeline::import_multiple(\"data/all_995_complete.txt\", add_sex = TRUE)\n",
    "## this is very slow so not worth doing each time! just kept for clarity\n",
    "\n",
    "# saveRDS(all_res_split, \"data/all_res_split.RDS\")"
   ]
  },
  {
   "cell_type": "markdown",
   "id": "careful-basin",
   "metadata": {},
   "source": [
    "### Calculate factor scores using model fit previously\n",
    "\n",
    "**Write and load questionnaire data, and import classifier**"
   ]
  },
  {
   "cell_type": "code",
   "execution_count": 3,
   "id": "favorite-couple",
   "metadata": {},
   "outputs": [],
   "source": [
    "%%R\n",
    "all_res_split <- readRDS(\"data/all_res_split.RDS\");\n",
    "# readr::write_csv(\n",
    "#   dplyr::bind_rows(\n",
    "#     all_res_split$non_distanced$gillan_questions,\n",
    "#     all_res_split$distanced$gillan_questions\n",
    "#   ),\n",
    "#   \"data/factor_prediction/questionnaire_subset_all_935.csv\"\n",
    "# );"
   ]
  },
  {
   "cell_type": "code",
   "execution_count": 3,
   "id": "incomplete-vertex",
   "metadata": {},
   "outputs": [],
   "source": [
    "questionnaire_likert = pd.read_csv('data/factor_prediction/questionnaire_subset_all_935.csv')\n",
    "clf = joblib.load('data/factor_prediction/gillan_classifier_78.pkl')"
   ]
  },
  {
   "cell_type": "markdown",
   "id": "basic-commerce",
   "metadata": {},
   "source": [
    "**Predict factor scores in all participants**"
   ]
  },
  {
   "cell_type": "code",
   "execution_count": 4,
   "id": "fifth-regard",
   "metadata": {},
   "outputs": [
    {
     "data": {
      "text/html": [
       "<div>\n",
       "<style scoped>\n",
       "    .dataframe tbody tr th:only-of-type {\n",
       "        vertical-align: middle;\n",
       "    }\n",
       "\n",
       "    .dataframe tbody tr th {\n",
       "        vertical-align: top;\n",
       "    }\n",
       "\n",
       "    .dataframe thead th {\n",
       "        text-align: right;\n",
       "    }\n",
       "</style>\n",
       "<table border=\"1\" class=\"dataframe\">\n",
       "  <thead>\n",
       "    <tr style=\"text-align: right;\">\n",
       "      <th></th>\n",
       "      <th>AD</th>\n",
       "      <th>Compul</th>\n",
       "      <th>SW</th>\n",
       "      <th>subjID</th>\n",
       "    </tr>\n",
       "  </thead>\n",
       "  <tbody>\n",
       "    <tr>\n",
       "      <th>0</th>\n",
       "      <td>2.433235</td>\n",
       "      <td>2.530141</td>\n",
       "      <td>2.251934</td>\n",
       "      <td>5b2a2d855b5c0900018b0bf5</td>\n",
       "    </tr>\n",
       "    <tr>\n",
       "      <th>1</th>\n",
       "      <td>3.984658</td>\n",
       "      <td>3.717348</td>\n",
       "      <td>1.664801</td>\n",
       "      <td>5ee93e0226f9f0167b877dbe</td>\n",
       "    </tr>\n",
       "    <tr>\n",
       "      <th>2</th>\n",
       "      <td>1.960317</td>\n",
       "      <td>1.586168</td>\n",
       "      <td>1.295876</td>\n",
       "      <td>5f5121371ed01f30b8051b73</td>\n",
       "    </tr>\n",
       "    <tr>\n",
       "      <th>3</th>\n",
       "      <td>3.512113</td>\n",
       "      <td>2.449905</td>\n",
       "      <td>1.889159</td>\n",
       "      <td>5f22f8d8e7195104928f837f</td>\n",
       "    </tr>\n",
       "    <tr>\n",
       "      <th>4</th>\n",
       "      <td>3.471570</td>\n",
       "      <td>3.412705</td>\n",
       "      <td>1.413577</td>\n",
       "      <td>5ef20e5fa9ac1301228a263a</td>\n",
       "    </tr>\n",
       "  </tbody>\n",
       "</table>\n",
       "</div>"
      ],
      "text/plain": [
       "         AD    Compul        SW                    subjID\n",
       "0  2.433235  2.530141  2.251934  5b2a2d855b5c0900018b0bf5\n",
       "1  3.984658  3.717348  1.664801  5ee93e0226f9f0167b877dbe\n",
       "2  1.960317  1.586168  1.295876  5f5121371ed01f30b8051b73\n",
       "3  3.512113  2.449905  1.889159  5f22f8d8e7195104928f837f\n",
       "4  3.471570  3.412705  1.413577  5ef20e5fa9ac1301228a263a"
      ]
     },
     "execution_count": 4,
     "metadata": {},
     "output_type": "execute_result"
    }
   ],
   "source": [
    "factor_score_pred = clf.predict(questionnaire_likert.iloc[:, 1:])\n",
    "factor_score_pred = pd.DataFrame(factor_score_pred, columns=['AD', 'Compul', 'SW'])\n",
    "factor_score_pred.loc[:, 'subjID'] = questionnaire_likert['subjID'].values\n",
    "\n",
    "factor_score_pred.head()\n",
    "# factor_score_pred.to_csv('data/factor_prediction/all_935_predicted_factor_scores.csv')"
   ]
  },
  {
   "cell_type": "code",
   "execution_count": 108,
   "id": "aa6af745-49db-4e48-ad0a-e01699c056bc",
   "metadata": {},
   "outputs": [
    {
     "data": {
      "image/png": "[encoded data removed]"
     },
     "metadata": {},
     "output_type": "display_data"
    }
   ],
   "source": [
    "%%R -i factor_score_pred -i light_pal -w 10 -h 3 --units in -r 100\n",
    "\n",
    "factors = names(factor_score_pred[,1:3])\n",
    "factor_names = c('Anxiety & depression', 'Compulsivity', 'Social withdrawal')\n",
    "\n",
    "pstpipeline::plot_factors(factor_score_pred, plot_type = \"factor_hist\", factors, factor_names, \n",
    "                          pal = light_pal, font_size = 11, font = \"Open Sans\")\n",
    "\n",
    "# ggplot2::ggsave('notebooks/plots/all_935_factor_scores.png', device = \"png\")"
   ]
  },
  {
   "cell_type": "markdown",
   "id": "incredible-printing",
   "metadata": {},
   "source": [
    "**How do these distributions compare to those originally obtained by [Gillan et al (2016)](https://elifesciences.org/articles/11305)?**"
   ]
  },
  {
   "cell_type": "code",
   "execution_count": 106,
   "id": "d420ece0-970b-4efa-9fb7-edbadfd7f1ea",
   "metadata": {},
   "outputs": [
    {
     "data": {
      "image/png": "[encoded data removed]"
     },
     "metadata": {},
     "output_type": "display_data"
    }
   ],
   "source": [
    "%%R -i factor_score_pred -i pal -w 10 -h 3 --units in -r 100\n",
    "\n",
    "factor_scores <- factor_score_pred %>%\n",
    "    dplyr::mutate(dataset = \"Our data\")\n",
    "    \n",
    "all_factor_scores <- read.csv('data/factor_prediction/gillan_scores.csv')[-1] %>%\n",
    "    dplyr::rename(Compul = CIT) %>%\n",
    "    dplyr::mutate(dataset = \"Gillan et al., 2016\") %>%\n",
    "    dplyr::bind_rows(factor_scores)\n",
    "\n",
    "pstpipeline::plot_factors(all_factor_scores, plot_type = \"factor_hist\", factors, factor_names, \n",
    "                          pal = pal, group = \"dataset\", font_size = 11, font = \"Open Sans\")\n",
    "\n",
    "# ggplot2::ggsave('notebooks/plots/gillan2016_factor_scores.png', device = \"png\")"
   ]
  },
  {
   "cell_type": "markdown",
   "id": "stylish-termination",
   "metadata": {},
   "source": [
    "Scores for the \"Compulsivity\" factor seem relatively close to that seen in the study by [Gillan et al (2016)](https://elifesciences.org/articles/11305), while scores for the \"Anxiety/Depression\" factor are slightly higher. This may be explained by our aim to actively recruit a sample which included a similar proportion of individuals reporting a psychiatric diagnosis (past or present) to the UK population. Scores for the \"Social Withdrawal\" were notably higher than those seen in the original dataset; this may be partly confounded by the fact that data collection occurred in April-May 2021, when the UK was not yet fully out of lockdown restrictions."
   ]
  }
 ],
 "metadata": {
  "jupytext": {
   "cell_metadata_filter": "name,tags,-all",
   "main_language": "python",
   "notebook_metadata_filter": "-all",
   "text_representation": {
    "extension": ".Rmd",
    "format_name": "rmarkdown"
   }
  },
  "kernelspec": {
   "display_name": "Python 3 (ipykernel)",
   "language": "python",
   "name": "python3"
  },
  "language_info": {
   "codemirror_mode": {
    "name": "ipython",
    "version": 3
   },
   "file_extension": ".py",
   "mimetype": "text/x-python",
   "name": "python",
   "nbconvert_exporter": "python",
   "pygments_lexer": "ipython3",
   "version": "3.8.12"
  }
 },
 "nbformat": 4,
 "nbformat_minor": 5
}
