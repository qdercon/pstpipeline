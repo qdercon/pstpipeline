{
 "cells": [
  {
   "cell_type": "markdown",
   "id": "3df752bc-f329-4e7c-a4b9-ca7d32b2a2e0",
   "metadata": {},
   "source": [
    "# Associations between learning parameters and transdiagnostic factors (+ distancing)"
   ]
  },
  {
   "cell_type": "markdown",
   "id": "a5f3bd21-078d-40e3-b28d-d4d657a0e03b",
   "metadata": {},
   "source": [
    "Having fit all 8 models, we now wish to dig more into the differences in training/test phase learning rates and temperature, and whether they are associated with transdiagnostic psychiatric symptom factor scores, or by the distancing manipulation. \n",
    "\n",
    "To do so we use Bayesian generalised linear models (GLMs) to quantify the associations between individual-level posterior mean parameter values (obtained from MCMC), and the various variables of interest, controlling for age, sex, and digit span (this approach was [preregistered](https://osf.io/fd4qu)). Specifically, Gamma family GLMs with log-link functions were used in models with learning rates as the response (as the alphas are highly positively skewed, and bounded by 0), while standard Gaussian linear regressions used to relate temperatures to the variables of interest (as these distributions were more Normal)."
   ]
  }
 ],
 "metadata": {
  "kernelspec": {
   "display_name": "Python 3",
   "language": "python",
   "name": "python3"
  },
  "language_info": {
   "codemirror_mode": {
    "name": "ipython",
    "version": 3
   },
   "file_extension": ".py",
   "mimetype": "text/x-python",
   "name": "python",
   "nbconvert_exporter": "python",
   "pygments_lexer": "ipython3",
   "version": "3.9.1"
  }
 },
 "nbformat": 4,
 "nbformat_minor": 5
}
