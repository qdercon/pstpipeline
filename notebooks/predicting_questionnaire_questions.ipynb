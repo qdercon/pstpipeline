{
 "cells": [
  {
   "cell_type": "markdown",
   "id": "finished-characteristic",
   "metadata": {},
   "source": [
    "## Identifying a subset of questionnaire questions to predict transdiagnostic factors"
   ]
  },
  {
   "cell_type": "markdown",
   "id": "through-telling",
   "metadata": {},
   "source": [
    "### Aim and approach\n",
    "\n",
    "We wish to identify a subset of questions which can acccurately predict factor scores on the three transdiagnostic symptom dimensions identified by [Gillan et al (2016)](https://elifesciences.org/articles/11305), without having to ask all 209 questions. To do this, we train a multi-target lasso regression model on data from their Experiment 2 (n=1400), which can be found on [OSF](https://osf.io/usdgt/), using 5-fold cross validation to optimise the alpha hyperparameter, and find how many questions are needed to predict the factor scores with reasonably high accuracy.\n",
    "\n",
    "The method and Python code here is adapted from (and broadly identical to) that used by [Wise & Dolan (2020)](https://www.nature.com/articles/s41467-020-17977-w), which was shared on [GitHub](https://github.com/tobywise/online-aversive-learning/blob/master/notebooks/questionnaire_analysis.ipynb). The only difference is that they used a different set of questionnaire data from [Rouault et al. (2018)](https://pubmed.ncbi.nlm.nih.gov/29458997/). While the same 209 questions were asked to a large online sample, it had less fine-grained Likert scoring for the Eating Attitudes Test (scored 0-3 vs 0-5) compared to the original study by [Gillan et al (2016)](https://elifesciences.org/articles/11305). This may have reduced the predictive accuracy of subsets of questions for the \"compulsivity\" factor."
   ]
  },
  {
   "cell_type": "markdown",
   "id": "juvenile-bulgarian",
   "metadata": {
    "lines_to_next_cell": 0
   },
   "source": [
    "### Setup\n",
    "\n",
    "**Fix data paths, import dependencies, and import data**"
   ]
  },
  {
   "cell_type": "code",
   "execution_count": 1,
   "id": "correct-bumper",
   "metadata": {},
   "outputs": [
    {
     "name": "stderr",
     "output_type": "stream",
     "text": [
      "c:\\users\\qderc\\appdata\\local\\programs\\python\\python39\\lib\\site-packages\\rpy2\\robjects\\packages.py:366: UserWarning: The symbol 'quartz' is not in this R namespace/package.\n",
      "  warnings.warn(\n"
     ]
    }
   ],
   "source": [
    "import pandas as pd\n",
    "import numpy as np\n",
    "from sklearn.linear_model import Lasso\n",
    "from sklearn.model_selection import cross_val_predict\n",
    "from sklearn.model_selection import RandomizedSearchCV\n",
    "import os, joblib, rpy2\n",
    "from sklearn.metrics import r2_score\n",
    "from tqdm import tqdm\n",
    "\n",
    "light_pal = [\"#ffc9b5\", \"#b1ddf1\", \"#987284\"]\n",
    "\n",
    "os.chdir('..')\n",
    "    # run initially as cd will be the notebook folder otherwise\n",
    "%load_ext rpy2.ipython\n",
    "    # warnings about 'quartz' on Windows can be safely ignored.\n",
    "\n",
    "qns = pd.read_csv('data/factor_prediction/gillan_qns.csv').iloc[:,1:]\n",
    "scores = pd.read_csv('data/factor_prediction/gillan_scores.csv').iloc[:,1:]"
   ]
  },
  {
   "cell_type": "code",
   "execution_count": 2,
   "id": "874ccf36-541a-4497-89b4-4b768549dea7",
   "metadata": {},
   "outputs": [
    {
     "data": {
      "text/html": [
       "<div>\n",
       "<style scoped>\n",
       "    .dataframe tbody tr th:only-of-type {\n",
       "        vertical-align: middle;\n",
       "    }\n",
       "\n",
       "    .dataframe tbody tr th {\n",
       "        vertical-align: top;\n",
       "    }\n",
       "\n",
       "    .dataframe thead th {\n",
       "        text-align: right;\n",
       "    }\n",
       "</style>\n",
       "<table border=\"1\" class=\"dataframe\">\n",
       "  <thead>\n",
       "    <tr style=\"text-align: right;\">\n",
       "      <th></th>\n",
       "      <th>id</th>\n",
       "      <th>AD</th>\n",
       "      <th>CIT</th>\n",
       "      <th>SW</th>\n",
       "    </tr>\n",
       "  </thead>\n",
       "  <tbody>\n",
       "    <tr>\n",
       "      <th>0</th>\n",
       "      <td>304SM51WA34XCM4E67SL28LY2UCBS4</td>\n",
       "      <td>3.054589</td>\n",
       "      <td>2.736297</td>\n",
       "      <td>1.644239</td>\n",
       "    </tr>\n",
       "    <tr>\n",
       "      <th>1</th>\n",
       "      <td>308Q0PEVB8DPUFML3BKB70KL51T9IW</td>\n",
       "      <td>2.665920</td>\n",
       "      <td>1.506195</td>\n",
       "      <td>1.528145</td>\n",
       "    </tr>\n",
       "    <tr>\n",
       "      <th>2</th>\n",
       "      <td>308Q0PEVB8DPUFML3BKB70KL6Q8I9Z</td>\n",
       "      <td>1.629748</td>\n",
       "      <td>1.656867</td>\n",
       "      <td>0.665719</td>\n",
       "    </tr>\n",
       "    <tr>\n",
       "      <th>3</th>\n",
       "      <td>308XBLVESI4LB741RISGCYG2G16RBR</td>\n",
       "      <td>1.910352</td>\n",
       "      <td>2.134919</td>\n",
       "      <td>0.352836</td>\n",
       "    </tr>\n",
       "    <tr>\n",
       "      <th>4</th>\n",
       "      <td>30BUDKLTXDVUDNIN42H3A5HRS51E5M</td>\n",
       "      <td>3.491979</td>\n",
       "      <td>2.284549</td>\n",
       "      <td>1.204889</td>\n",
       "    </tr>\n",
       "  </tbody>\n",
       "</table>\n",
       "</div>"
      ],
      "text/plain": [
       "                               id        AD       CIT        SW\n",
       "0  304SM51WA34XCM4E67SL28LY2UCBS4  3.054589  2.736297  1.644239\n",
       "1  308Q0PEVB8DPUFML3BKB70KL51T9IW  2.665920  1.506195  1.528145\n",
       "2  308Q0PEVB8DPUFML3BKB70KL6Q8I9Z  1.629748  1.656867  0.665719\n",
       "3  308XBLVESI4LB741RISGCYG2G16RBR  1.910352  2.134919  0.352836\n",
       "4  30BUDKLTXDVUDNIN42H3A5HRS51E5M  3.491979  2.284549  1.204889"
      ]
     },
     "execution_count": 2,
     "metadata": {},
     "output_type": "execute_result"
    }
   ],
   "source": [
    "qns.head()\n",
    "scores.head()"
   ]
  },
  {
   "cell_type": "markdown",
   "id": "printable-guess",
   "metadata": {},
   "source": [
    "### Fit model\n",
    "\n",
    "**Hyperparameter optimisation**\n",
    "\n",
    "Loop over candidate alpha values and record $R^2$ and number of items with non-zero coefficients following 5-fold cross-validation."
   ]
  },
  {
   "cell_type": "code",
   "execution_count": 3,
   "id": "behind-gateway",
   "metadata": {
    "lines_to_next_cell": 0,
    "tags": [
     "remove_output"
    ]
   },
   "outputs": [
    {
     "name": "stderr",
     "output_type": "stream",
     "text": [
      "100%|██████████████████████████████████████████████████████████████████████████████████| 13/13 [00:04<00:00,  3.15it/s]\n"
     ]
    }
   ],
   "source": [
    "clf = Lasso()\n",
    "\n",
    "alpha_values = [0.001, 0.01, 0.05, 0.075, 0.1, 0.125, 0.15, 0.2, 0.3, 0.4, 0.5, 0.6, 0.7]\n",
    "r2_values = np.empty((3, len(alpha_values)))\n",
    "n_items = np.empty(len(alpha_values))\n",
    "\n",
    "# iloc.[:, 1:] used throughout to remove id column\n",
    "for n, alpha in enumerate(tqdm(alpha_values)):\n",
    "    clf = Lasso(alpha=alpha)\n",
    "    clf.fit(qns.iloc[:, 1:], scores.iloc[:, 1:]);\n",
    "    pred = cross_val_predict(clf, qns.iloc[:, 1:], scores.iloc[:, 1:], cv=5)\n",
    "    for i in range(3):\n",
    "        r2_values[i, n] = r2_score(scores.iloc[:, i+1], pred[:, i])\n",
    "    n_items[n] = np.any(clf.coef_.T != 0, axis=1).sum()"
   ]
  },
  {
   "cell_type": "code",
   "execution_count": 9,
   "id": "93cecd03-4bb9-48de-b6d7-369ab1fa6df7",
   "metadata": {},
   "outputs": [
    {
     "name": "stdout",
     "output_type": "stream",
     "text": [
      "\u001b[36mi\u001b[39m Loading \u001b[34m\u001b[34mpstpipeline\u001b[34m\u001b[39m\n"
     ]
    },
    {
     "data": {
      "image/png": "[encoded data removed]"
     },
     "metadata": {},
     "output_type": "display_data"
    }
   ],
   "source": [
    "%%R -i r2_values -i light_pal -i alpha_values -i n_items -w 10 -h 5 --units in -r 100\n",
    "\n",
    "factor_names = c('Anxiety & depression', 'Compulsivity', 'Social withdrawal')\n",
    "dimnames(r2_values) <- list(factor_names, paste(alpha_values, n_items, sep = \"_\"))\n",
    "\n",
    "devtools::load_all()\n",
    "pstpipeline::plot_factors(r2_values, plot_type = \"r2_plot\", hyp_alph = 0.1, pal = light_pal, font = \"Open Sans\")\n",
    "# ggplot2::ggsave('notebooks/plots/R2_plot.png', device = \"png\")"
   ]
  },
  {
   "cell_type": "markdown",
   "id": "female-oracle",
   "metadata": {},
   "source": [
    "An alpha value of 0.1 looks like it gives a good balance between accurate predictions and a number of questions."
   ]
  },
  {
   "cell_type": "markdown",
   "id": "meaning-quantum",
   "metadata": {
    "lines_to_next_cell": 0
   },
   "source": [
    "**Predict factor scores and identify question subset**\n",
    "\n",
    "Using alpha=0.1 and 5-fold CV:"
   ]
  },
  {
   "cell_type": "code",
   "execution_count": 10,
   "id": "thorough-globe",
   "metadata": {
    "lines_to_next_cell": 0
   },
   "outputs": [],
   "source": [
    "clf = Lasso(alpha=0.1)\n",
    "pred = cross_val_predict(clf, qns.iloc[:, 1:], scores.iloc[:, 1:], cv=5)\n",
    "\n",
    "clf.fit(qns.iloc[:, 1:], scores.iloc[:, 1:]);\n",
    "coefs = clf.coef_.T"
   ]
  },
  {
   "cell_type": "code",
   "execution_count": 13,
   "id": "3ebea5b5-fdde-4db9-a8e0-d6d4420143cc",
   "metadata": {},
   "outputs": [
    {
     "data": {
      "image/png": "[encoded data removed]"
     },
     "metadata": {},
     "output_type": "display_data"
    }
   ],
   "source": [
    "%%R -i scores -i pred -i light_pal -w 10 -h 3.5 --units in -r 100\n",
    "\n",
    "factors = c(\"AD\", \"CIT\", \"SW\")\n",
    "pstpipeline::plot_factors(list(\"preds\" = pred, \"scores\" = scores), plot_type = \"predictive\", colnames = factors, \n",
    "                          titles = factor_names, r2 = r2_values, qn = 78, pal = light_pal, font = \"Open Sans\")\n",
    "# ggplot2::ggsave('notebooks/plots/alpha01_gillan.png', device = \"png\")"
   ]
  },
  {
   "cell_type": "markdown",
   "id": "stone-pixel",
   "metadata": {},
   "source": [
    "This indeed seems to do a good job of predicting true factor scores, including for compulsivity. "
   ]
  },
  {
   "cell_type": "code",
   "execution_count": 16,
   "id": "d1e3fc7e-b7d1-4218-bdc8-7bc7a10c52b4",
   "metadata": {},
   "outputs": [
    {
     "data": {
      "image/png": "[encoded data removed]"
     },
     "metadata": {},
     "output_type": "display_data"
    }
   ],
   "source": [
    "%%R -i coefs -i qns -w 17 -h 2.5 --units in -r 100\n",
    "\n",
    "pstpipeline::plot_factors(list(\"qns\" = qns, \"coefs\" = coefs), plot_type = \"factor_htmp\", colnames = factors, \n",
    "                          titles = factor_names, font = \"Open Sans\")\n",
    "# ggplot2::ggsave('notebooks/plots/question_subset_heatmap.png', device = \"png\")"
   ]
  },
  {
   "cell_type": "markdown",
   "id": "285bf377-f67f-44e3-ba38-fe9840c02d5c",
   "metadata": {},
   "source": [
    "We can see here the 78 included questions (other questions have all three weights = 0). These appear to be fairly specific to the factors; i.e., few questions have weights > 0 for more than 1 factor."
   ]
  },
  {
   "cell_type": "code",
   "execution_count": 19,
   "id": "hungarian-beast",
   "metadata": {},
   "outputs": [],
   "source": [
    "# save classifier\n",
    "joblib.dump(clf, 'data/factor_prediction/gillan_classifier_78.pkl')\n",
    "\n",
    "# save item weights\n",
    "weight_df = pd.DataFrame(coefs, columns=['Anxiety/depression', 'Compulsivity', 'Social withdrawal'], index=np.arange(coefs.shape[0]))\n",
    "weight_df['item'] = qns.columns[1:]\n",
    "weight_df.to_csv('data/factor_prediction/gillan_classifier_weights_78.csv', index=None)\n",
    "\n",
    "# save list of questions\n",
    "reduced_qns = (qns.iloc[:,1:]).iloc[:, np.any(clf.coef_.T != 0, axis=1)]\n",
    "reduced_qns.to_csv('data/factor_prediction/reduced_qns_gillan_78.csv')"
   ]
  }
 ],
 "metadata": {
  "jupytext": {
   "cell_metadata_filter": "name,tags,-all",
   "notebook_metadata_filter": "-all",
   "text_representation": {
    "extension": ".Rmd",
    "format_name": "rmarkdown"
   }
  },
  "kernelspec": {
   "display_name": "Python 3",
   "language": "python",
   "name": "python3"
  },
  "language_info": {
   "codemirror_mode": {
    "name": "ipython",
    "version": 3
   },
   "file_extension": ".py",
   "mimetype": "text/x-python",
   "name": "python",
   "nbconvert_exporter": "python",
   "pygments_lexer": "ipython3",
   "version": "3.9.1"
  }
 },
 "nbformat": 4,
 "nbformat_minor": 5
}
