{
 "cells": [
  {
   "cell_type": "markdown",
   "id": "b18faf3b-124c-4c4b-8138-7ee36d75e292",
   "metadata": {},
   "source": [
    "# Fitting models using MCMC, and generating posterior predictions"
   ]
  },
  {
   "cell_type": "code",
   "execution_count": 1,
   "id": "205ea995-7254-435a-b5da-db23b532c45b",
   "metadata": {},
   "outputs": [
    {
     "name": "stderr",
     "output_type": "stream",
     "text": [
      "c:\\users\\qderc\\appdata\\local\\programs\\python\\python39\\lib\\site-packages\\rpy2\\robjects\\packages.py:366: UserWarning: The symbol 'quartz' is not in this R namespace/package.\n",
      "  warnings.warn(\n"
     ]
    }
   ],
   "source": [
    "import os\n",
    "os.chdir('..')\n",
    "    # run initially as cd will be the notebook folder otherwise\n",
    "%load_ext rpy2.ipython\n",
    "    # warnings about 'quartz' on Windows can be safely ignored.\n",
    "\n",
    "pal = [\"#ffc9b5\", \"#648767\", \"#b1ddf1\", \"#95a7ce\", \"#987284\", \"#3d5a80\"]\n",
    "light_pal = [\"#ffc9b5\", \"#b1ddf1\", \"#987284\"]"
   ]
  },
  {
   "cell_type": "code",
   "execution_count": 41,
   "id": "957f5541-3ee0-472d-938a-6e414992a44f",
   "metadata": {},
   "outputs": [
    {
     "name": "stdout",
     "output_type": "stream",
     "text": [
      "\u001b[36mi\u001b[39m Loading \u001b[34m\u001b[34mpstpipeline\u001b[34m\u001b[39m\n"
     ]
    }
   ],
   "source": [
    "%%R\n",
    "devtools::load_all()\n",
    "options(mc.cores = 4) # number of chains to run in parallel"
   ]
  },
  {
   "cell_type": "markdown",
   "id": "4af160a3-d6eb-47f8-823b-76ec8a20b0d0",
   "metadata": {},
   "source": [
    "## Fit training and test data models"
   ]
  },
  {
   "cell_type": "markdown",
   "id": "9f89e739-d0f2-40f6-b774-21a9f10d207e",
   "metadata": {},
   "source": [
    "For computational ease, we are going to take a small sample (n=20) of each of our cohorts, as each model otherwise takes >=1 day to run on standard hardware!"
   ]
  },
  {
   "cell_type": "code",
   "execution_count": 8,
   "id": "ce176464-b042-429c-9603-a3ac47ce2e5b",
   "metadata": {},
   "outputs": [],
   "source": [
    "%%R\n",
    "data(pstpipeline::all_res_split)\n",
    "nd_subsample <- pstpipeline::take_subsample(all_res_split$non_distanced, n_ppts = 20)\n",
    "dis_subsample <- pstpipeline::take_subsample(all_res_split$distanced, n_ppts = 20)"
   ]
  },
  {
   "cell_type": "code",
   "execution_count": 9,
   "id": "93f1b7dc-4ef6-4f00-8796-3dbf9fb551f9",
   "metadata": {},
   "outputs": [
    {
     "name": "stdout",
     "output_type": "stream",
     "text": [
      "\u001b[38;5;246m# A tibble: 6 x 78\u001b[39m\n",
      "  subjID   sessionID  studyID  distanced exclusion final_block_AB final_block_CD\n",
      "  \u001b[3m\u001b[38;5;246m<chr>\u001b[39m\u001b[23m    \u001b[3m\u001b[38;5;246m<chr>\u001b[39m\u001b[23m      \u001b[3m\u001b[38;5;246m<chr>\u001b[39m\u001b[23m    \u001b[3m\u001b[38;5;246m<lgl>\u001b[39m\u001b[23m         \u001b[3m\u001b[38;5;246m<dbl>\u001b[39m\u001b[23m          \u001b[3m\u001b[38;5;246m<dbl>\u001b[39m\u001b[23m          \u001b[3m\u001b[38;5;246m<dbl>\u001b[39m\u001b[23m\n",
      "\u001b[38;5;250m1\u001b[39m 5c5cad3~ 608920632~ 608013c~ FALSE             0           0.9            0.65\n",
      "\u001b[38;5;250m2\u001b[39m 5a9d6bc~ 60891b115~ 6080132~ FALSE             0           0.4            0.5 \n",
      "\u001b[38;5;250m3\u001b[39m 57f9238~ 6091028f8~ 6080057~ FALSE             0           1              0.8 \n",
      "\u001b[38;5;250m4\u001b[39m 5bb7b83~ 609103069~ 6080103~ FALSE             0           1              1   \n",
      "\u001b[38;5;250m5\u001b[39m 5fa1625~ 609103388~ 6080103~ FALSE             0           0.95           0.95\n",
      "\u001b[38;5;250m6\u001b[39m 56ce42d~ 609103101~ 6080103~ FALSE             0           0.9            0.75\n",
      "\u001b[38;5;246m# ... with 71 more variables: final_block_EF <dbl>, total_points <int>,\u001b[39m\n",
      "\u001b[38;5;246m#   total_time_taken <dbl>, keypress_percent <dbl>, mean_rt <dbl>,\u001b[39m\n",
      "\u001b[38;5;246m#   digit_span <int>, catch_question_1 <lgl>, catch_question_2 <lgl>,\u001b[39m\n",
      "\u001b[38;5;246m#   catch_question_3 <lgl>, catch_question_4 <lgl>, sex <chr>, age <int>,\u001b[39m\n",
      "\u001b[38;5;246m#   gender <chr>, ethnicity <chr>, ses <int>, income <int>, currency <chr>,\u001b[39m\n",
      "\u001b[38;5;246m#   english <chr>, japanese <int>, neurological <dbl>, psych_neurdev <dbl>,\u001b[39m\n",
      "\u001b[38;5;246m#   psych_neurdev_condition <chr>, other_psych_neurdev_condition <int>, ...\u001b[39m\n"
     ]
    }
   ],
   "source": [
    "%%R\n",
    "head(nd_subsample$ppt_info)"
   ]
  },
  {
   "cell_type": "markdown",
   "id": "634c9473-2ba6-4d58-808a-0d7c22b82741",
   "metadata": {},
   "source": [
    "### Training models"
   ]
  },
  {
   "cell_type": "markdown",
   "id": "4a791ac2-f62b-48e4-836d-480b3616b8fc",
   "metadata": {},
   "source": [
    "#### 2 learning rates"
   ]
  },
  {
   "cell_type": "code",
   "execution_count": 10,
   "id": "036865fa-7b94-4eee-8e97-fa1ac0d199da",
   "metadata": {},
   "outputs": [
    {
     "name": "stderr",
     "output_type": "stream",
     "text": [
      "R[write to console]: The C++ toolchain required for CmdStan is setup properly!\n",
      "\n",
      "R[write to console]: Compiling Stan program...\n",
      "\n"
     ]
    },
    {
     "name": "stdout",
     "output_type": "stream",
     "text": [
      " \\|/-\\|/-\\|/-\\|/-\\|/-\\|/-\\|/-\\|/-\\|/-\\|/-\\|/-\\|/-\\|/-\\|/-\\|/-\\|/-\\|/-\\|/-\\|/-\\|/-\\|/-\\|/-\\|/-\\|/-\\|/-\\|/-\\|/-\\|/-\\|/-\\|/-\\|/-\\|/-\\|/-\\\r"
     ]
    },
    {
     "name": "stderr",
     "output_type": "stream",
     "text": [
      "R[write to console]: Getting initial values from variational inference...\n",
      "\n"
     ]
    },
    {
     "name": "stdout",
     "output_type": "stream",
     "text": [
      "Finished in  7.9 seconds.\n",
      "Running MCMC with 4 parallel chains...\n",
      "\n",
      "Chain 3 finished in 817.5 seconds.\n",
      "Chain 4 finished in 823.3 seconds.\n",
      "Chain 2 finished in 862.0 seconds.\n",
      "Chain 1 finished in 866.3 seconds.\n",
      "\n",
      "All 4 chains finished successfully.\n",
      "Mean chain execution time: 842.3 seconds.\n",
      "Total execution time: 866.5 seconds.\n",
      "Processing csv files: C:/Users/qderc/Documents/Research Work/October 2021/pstpipeline/outputs/cmdstan/pst_gainloss_Q_training-202110222226-1-98bcbf.csv, C:/Users/qderc/Documents/Research Work/October 2021/pstpipeline/outputs/cmdstan/pst_gainloss_Q_training-202110222226-2-98bcbf.csv, C:/Users/qderc/Documents/Research Work/October 2021/pstpipeline/outputs/cmdstan/pst_gainloss_Q_training-202110222226-3-98bcbf.csv, C:/Users/qderc/Documents/Research Work/October 2021/pstpipeline/outputs/cmdstan/pst_gainloss_Q_training-202110222226-4-98bcbf.csv\n",
      "\n",
      "Checking sampler transitions treedepth.\n",
      "Treedepth satisfactory for all transitions.\n",
      "\n",
      "Checking sampler transitions for divergences.\n",
      "No divergent transitions found.\n",
      "\n",
      "Checking E-BFMI - sampler transitions HMC potential energy.\n",
      "E-BFMI satisfactory.\n",
      "\n",
      "Effective sample size satisfactory.\n",
      "\n",
      "Split R-hat values satisfactory all parameters.\n",
      "\n",
      "Processing complete, no problems detected.\n"
     ]
    },
    {
     "name": "stderr",
     "output_type": "stream",
     "text": [
      "R[write to console]: The C++ toolchain required for CmdStan is setup properly!\n",
      "\n",
      "R[write to console]: Model executable is up to date!\n",
      "\n",
      "R[write to console]: Getting initial values from variational inference...\n",
      "\n"
     ]
    },
    {
     "name": "stdout",
     "output_type": "stream",
     "text": [
      "Finished in  8.7 seconds.\n",
      "Running MCMC with 4 parallel chains...\n",
      "\n",
      "Chain 2 finished in 868.3 seconds.\n",
      "Chain 4 finished in 872.1 seconds.\n",
      "Chain 1 finished in 875.3 seconds.\n",
      "Chain 3 finished in 906.1 seconds.\n",
      "\n",
      "All 4 chains finished successfully.\n",
      "Mean chain execution time: 880.5 seconds.\n",
      "Total execution time: 906.4 seconds.\n",
      "Processing csv files: C:/Users/qderc/Documents/Research Work/October 2021/pstpipeline/outputs/cmdstan/pst_gainloss_Q_training-202110222241-1-427cad.csv, C:/Users/qderc/Documents/Research Work/October 2021/pstpipeline/outputs/cmdstan/pst_gainloss_Q_training-202110222241-2-427cad.csv, C:/Users/qderc/Documents/Research Work/October 2021/pstpipeline/outputs/cmdstan/pst_gainloss_Q_training-202110222241-3-427cad.csv, C:/Users/qderc/Documents/Research Work/October 2021/pstpipeline/outputs/cmdstan/pst_gainloss_Q_training-202110222241-4-427cad.csv\n",
      "\n",
      "Checking sampler transitions treedepth.\n",
      "Treedepth satisfactory for all transitions.\n",
      "\n",
      "Checking sampler transitions for divergences.\n",
      "No divergent transitions found.\n",
      "\n",
      "Checking E-BFMI - sampler transitions HMC potential energy.\n",
      "E-BFMI satisfactory.\n",
      "\n",
      "Effective sample size satisfactory.\n",
      "\n",
      "Split R-hat values satisfactory all parameters.\n",
      "\n",
      "Processing complete, no problems detected.\n"
     ]
    }
   ],
   "source": [
    "%%R\n",
    "subset_mcmc_2a_train_nd <- pstpipeline::fit_learning_model(\n",
    "    nd_subsample, model = \"2a\", exp_part = \"training\", vb = FALSE, save_model_as = \"fit_pst_2a_nd_subsamp\", \n",
    "    outputs = c(\"raw_df\", \"stan_datalist\", \"summary\", \"draws_list\", \"loo_obj\", \"diagnostics\"),\n",
    "    refresh = 0, iter_warmup = 1000, iter_sampling = 2000, adapt_delta = 0.9, step_size = 1, \n",
    "    max_treedepth = 10, font_size = 11, font = \"Open Sans\"\n",
    ");\n",
    "subset_mcmc_2a_train_dis <- pstpipeline::fit_learning_model(\n",
    "    dis_subsample, model = \"2a\", exp_part = \"training\", vb = FALSE, save_model_as = \"fit_pst_2a_dis_subsamp\", \n",
    "    outputs = c(\"raw_df\", \"stan_datalist\", \"summary\", \"draws_list\", \"loo_obj\", \"diagnostics\"),\n",
    "    refresh = 0, iter_warmup = 1000, iter_sampling = 2000, adapt_delta = 0.9, step_size = 1, \n",
    "    max_treedepth = 10, font_size = 11, font = \"Open Sans\"\n",
    ");"
   ]
  },
  {
   "cell_type": "code",
   "execution_count": 28,
   "id": "e55549fc-0629-4627-a092-7ac353a3dca3",
   "metadata": {},
   "outputs": [
    {
     "data": {
      "image/png": "[encoded data removed]"
     },
     "metadata": {},
     "output_type": "display_data"
    }
   ],
   "source": [
    "%%R -w 10 -h 5 --units in -r 100\n",
    "cowplot::plot_grid(\n",
    "    cowplot::ggdraw() + cowplot::draw_label(\"Non-distanced\", hjust = 3.35, fontface = \"bold\", size = 14, fontfamily = \"Open Sans\"),\n",
    "    subset_mcmc_2a_train_nd$model_checks$mu_par_dens,\n",
    "    cowplot::ggdraw() + cowplot::draw_label(\"Distanced\", hjust = 4.85, fontface = \"bold\", size = 14, fontfamily = \"Open Sans\"),\n",
    "    subset_mcmc_2a_train_dis$model_checks$mu_par_dens,\n",
    "    nrow = 4,\n",
    "    rel_heights = c(0.1, 1, 0.1, 1)\n",
    ")"
   ]
  },
  {
   "cell_type": "markdown",
   "id": "766dc8d7-d1c4-49d2-9aa7-8ebf6170591e",
   "metadata": {},
   "source": [
    "These are the posterior distributions for the group-level means of the three free parameters."
   ]
  },
  {
   "cell_type": "code",
   "execution_count": 29,
   "id": "9abc9f98-4cb7-4c12-8202-735bfc84b3c6",
   "metadata": {},
   "outputs": [
    {
     "data": {
      "image/png": "[encoded data removed]"
     },
     "metadata": {},
     "output_type": "display_data"
    }
   ],
   "source": [
    "%%R -w 13.5 -h 5 --units in -r 100\n",
    "cowplot::plot_grid(\n",
    "    subset_mcmc_2a_train_nd$model_checks$diagnostics$trace + \n",
    "        ggplot2::ggtitle(\"Non-distanced\") + \n",
    "        ggplot2::theme(axis.text.x = ggplot2::element_text(size = 10)), \n",
    "    subset_mcmc_2a_train_nd$model_checks$diagnostics$rank_hist +\n",
    "        ggplot2::theme(axis.text.x = ggplot2::element_text(size = 10)),\n",
    "    subset_mcmc_2a_train_dis$model_checks$diagnostics$trace + \n",
    "        ggplot2::ggtitle(\"Distanced\") +\n",
    "        ggplot2::theme(axis.text.x = ggplot2::element_text(size = 10)), \n",
    "    subset_mcmc_2a_train_dis$model_checks$diagnostics$rank_hist + \n",
    "        ggplot2::theme(axis.text.x = ggplot2::element_text(size = 10)),\n",
    "    nrow = 2,\n",
    "    ncol = 2\n",
    ")"
   ]
  },
  {
   "cell_type": "markdown",
   "id": "c2dc533f-6420-4af7-bd41-e8378301ad05",
   "metadata": {},
   "source": [
    "Traces should look like \"hairy caterpillars\", and rank histograms should all be approximately uniformly distributed (here, it may be that we should do more sampling/warm-up iterations). Next, we want to see how well the fitted model parameters predict the observed data, by sampling from the posterior."
   ]
  },
  {
   "cell_type": "code",
   "execution_count": 42,
   "id": "7a877e58-e02d-4146-8e4a-bdfe4278ad19",
   "metadata": {},
   "outputs": [
    {
     "name": "stderr",
     "output_type": "stream",
     "text": [
      "R[write to console]: Model executable is up to date!\n",
      "\n"
     ]
    },
    {
     "name": "stdout",
     "output_type": "stream",
     "text": [
      "Running standalone generated quantities after 4 MCMC chains, all chains in parallel ...\n",
      "\n",
      "Chain 3 finished in 0.0 seconds.\n",
      "Chain 1 finished in 0.0 seconds.\n",
      "Chain 4 finished in 0.0 seconds.\n",
      "Chain 2 finished in 0.0 seconds.\n",
      "\n",
      "All 4 chains finished successfully.\n",
      "Mean chain execution time: 0.0 seconds.\n",
      "Total execution time: 22.5 seconds.\n"
     ]
    }
   ],
   "source": [
    "%%R\n",
    "fit_nd_2a <- readRDS(\"outputs/cmdstan/fit_pst_2a_nd_subsamp_mcmc_8000.RDS\")\n",
    "data_list_nd_2a <- readRDS(\"outputs/cmdstan/fit_pst_2a_nd_subsamp_stan_datalist.RDS\")\n",
    "\n",
    "subset_gq_2a_train_nd <- pstpipeline::generate_posterior_quantities(\n",
    "    fit_mcmc = fit_nd_2a, data_list = data_list_nd_2a, save_model_as = \"fit_pst_2a_nd_subsamp\", return_type = \"paths\"\n",
    ")"
   ]
  },
  {
   "cell_type": "code",
   "execution_count": 43,
   "id": "4039f249-2a70-4159-b835-a115d9a10b16",
   "metadata": {},
   "outputs": [
    {
     "name": "stdout",
     "output_type": "stream",
     "text": [
      "[1] \"outputs/cmdstan/fit_pst_2a_nd_subsamp_gq_chain_1.csv\"\n",
      "[2] \"outputs/cmdstan/fit_pst_2a_nd_subsamp_gq_chain_2.csv\"\n",
      "[3] \"outputs/cmdstan/fit_pst_2a_nd_subsamp_gq_chain_3.csv\"\n",
      "[4] \"outputs/cmdstan/fit_pst_2a_nd_subsamp_gq_chain_4.csv\"\n"
     ]
    }
   ],
   "source": [
    "%%R\n",
    "subset_gq_2a_train_nd"
   ]
  },
  {
   "cell_type": "code",
   "execution_count": 46,
   "id": "188f4514-b8ca-40a5-a21f-63d6234731b4",
   "metadata": {},
   "outputs": [
    {
     "name": "stderr",
     "output_type": "stream",
     "text": [
      "R[write to console]: Model executable is up to date!\n",
      "\n"
     ]
    },
    {
     "name": "stdout",
     "output_type": "stream",
     "text": [
      "Running standalone generated quantities after 4 MCMC chains, all chains in parallel ...\n",
      "\n",
      "Chain 1 finished in 0.0 seconds.\n",
      "Chain 3 finished in 0.0 seconds.\n",
      "Chain 4 finished in 0.0 seconds.\n",
      "Chain 2 finished in 0.0 seconds.\n",
      "\n",
      "All 4 chains finished successfully.\n",
      "Mean chain execution time: 0.0 seconds.\n",
      "Total execution time: 14.7 seconds.\n"
     ]
    }
   ],
   "source": [
    "%%R\n",
    "fit_dis_2a <- readRDS(\"outputs/cmdstan/fit_pst_2a_dis_subsamp_mcmc_8000.RDS\")\n",
    "data_list_dis_2a <- readRDS(\"outputs/cmdstan/fit_pst_2a_dis_subsamp_stan_datalist.RDS\")\n",
    "\n",
    "subset_gq_2a_train_nd <- pstpipeline::generate_posterior_quantities(\n",
    "    fit_mcmc = fit_dis_2a, data_list = data_list_dis_2a, save_model_as = \"fit_pst_2a_dis_subsamp\", return_type = \"paths\"\n",
    ")"
   ]
  },
  {
   "cell_type": "markdown",
   "id": "d91377d4-8077-4031-a177-f6ba66d69561",
   "metadata": {},
   "source": [
    "#### 1 learning rate"
   ]
  },
  {
   "cell_type": "code",
   "execution_count": 47,
   "id": "fc794c2a-8a1e-4d04-a9b0-4837b325bc5f",
   "metadata": {},
   "outputs": [
    {
     "name": "stderr",
     "output_type": "stream",
     "text": [
      "R[write to console]: The C++ toolchain required for CmdStan is setup properly!\n",
      "\n",
      "R[write to console]: Compiling Stan program...\n",
      "\n"
     ]
    },
    {
     "name": "stdout",
     "output_type": "stream",
     "text": [
      " \\|/-\\|/-\\|/-\\|/-\\|/-\\|/-\\|/-\\|/-\\|/-\\|/-\\|/-\\|/-\\|/-\\|/-\\|/-\\|/-\\|/-\\|/-\\|/-\\|/-\\|/-\\|/-\\|/-\\|/-\\\r"
     ]
    },
    {
     "name": "stderr",
     "output_type": "stream",
     "text": [
      "R[write to console]: Getting initial values from variational inference...\n",
      "\n"
     ]
    },
    {
     "name": "stdout",
     "output_type": "stream",
     "text": [
      "Finished in  7.5 seconds.\n",
      "Running MCMC with 4 parallel chains...\n",
      "\n",
      "Chain 3 finished in 760.1 seconds.\n",
      "Chain 4 finished in 768.3 seconds.\n",
      "Chain 1 finished in 808.1 seconds.\n",
      "Chain 2 finished in 901.7 seconds.\n",
      "\n",
      "All 4 chains finished successfully.\n",
      "Mean chain execution time: 809.6 seconds.\n",
      "Total execution time: 901.9 seconds.\n",
      "Processing csv files: C:/Users/qderc/Documents/Research Work/October 2021/pstpipeline/outputs/cmdstan/pst_Q_training-202110222316-1-8256ed.csv, C:/Users/qderc/Documents/Research Work/October 2021/pstpipeline/outputs/cmdstan/pst_Q_training-202110222316-2-8256ed.csv, C:/Users/qderc/Documents/Research Work/October 2021/pstpipeline/outputs/cmdstan/pst_Q_training-202110222316-3-8256ed.csv, C:/Users/qderc/Documents/Research Work/October 2021/pstpipeline/outputs/cmdstan/pst_Q_training-202110222316-4-8256ed.csv\n",
      "\n",
      "Checking sampler transitions treedepth.\n",
      "Treedepth satisfactory for all transitions.\n",
      "\n",
      "Checking sampler transitions for divergences.\n",
      "No divergent transitions found.\n",
      "\n",
      "Checking E-BFMI - sampler transitions HMC potential energy.\n",
      "E-BFMI satisfactory.\n",
      "\n",
      "Effective sample size satisfactory.\n",
      "\n",
      "Split R-hat values satisfactory all parameters.\n",
      "\n",
      "Processing complete, no problems detected.\n"
     ]
    },
    {
     "name": "stderr",
     "output_type": "stream",
     "text": [
      "R[write to console]: The C++ toolchain required for CmdStan is setup properly!\n",
      "\n",
      "R[write to console]: Model executable is up to date!\n",
      "\n",
      "R[write to console]: Getting initial values from variational inference...\n",
      "\n"
     ]
    },
    {
     "name": "stdout",
     "output_type": "stream",
     "text": [
      "Finished in  8.1 seconds.\n",
      "Running MCMC with 4 parallel chains...\n",
      "\n",
      "Chain 1 finished in 847.1 seconds.\n",
      "Chain 2 finished in 851.7 seconds.\n",
      "Chain 4 finished in 865.1 seconds.\n",
      "Chain 3 finished in 920.0 seconds.\n",
      "\n",
      "All 4 chains finished successfully.\n",
      "Mean chain execution time: 871.0 seconds.\n",
      "Total execution time: 920.3 seconds.\n",
      "Processing csv files: C:/Users/qderc/Documents/Research Work/October 2021/pstpipeline/outputs/cmdstan/pst_Q_training-202110222332-1-4a62db.csv, C:/Users/qderc/Documents/Research Work/October 2021/pstpipeline/outputs/cmdstan/pst_Q_training-202110222332-2-4a62db.csv, C:/Users/qderc/Documents/Research Work/October 2021/pstpipeline/outputs/cmdstan/pst_Q_training-202110222332-3-4a62db.csv, C:/Users/qderc/Documents/Research Work/October 2021/pstpipeline/outputs/cmdstan/pst_Q_training-202110222332-4-4a62db.csv\n",
      "\n",
      "Checking sampler transitions treedepth.\n",
      "Treedepth satisfactory for all transitions.\n",
      "\n",
      "Checking sampler transitions for divergences.\n",
      "No divergent transitions found.\n",
      "\n",
      "Checking E-BFMI - sampler transitions HMC potential energy.\n",
      "E-BFMI satisfactory.\n",
      "\n",
      "Effective sample size satisfactory.\n",
      "\n",
      "Split R-hat values satisfactory all parameters.\n",
      "\n",
      "Processing complete, no problems detected.\n"
     ]
    }
   ],
   "source": [
    "%%R\n",
    "subset_mcmc_1a_train_nd <- pstpipeline::fit_learning_model(\n",
    "    nd_subsample, exp_part = \"training\", model = \"1a\", vb = FALSE, save_model_as = \"fit_pst_1a_nd_subsamp\",\n",
    "    outputs = c(\"raw_df\", \"stan_datalist\", \"summary\", \"draws_list\", \"loo_obj\", \"diagnostics\"),\n",
    "     refresh = 0, iter_warmup = 1000, iter_sampling = 2000, adapt_delta = 0.9, step_size = 1, \n",
    "    max_treedepth = 10, font_size = 11, font = \"Open Sans\"\n",
    ");\n",
    "subset_mcmc_1a_train_dis <- pstpipeline::fit_learning_model(\n",
    "    dis_subsample, exp_part = \"training\", model = \"1a\", vb = FALSE, save_model_as = \"fit_pst_1a_dis_subsamp\",\n",
    "    outputs = c(\"raw_df\", \"stan_datalist\", \"summary\", \"draws_list\", \"loo_obj\", \"diagnostics\"),\n",
    "     refresh = 0, iter_warmup = 1000, iter_sampling = 2000, adapt_delta = 0.9, step_size = 1, \n",
    "    max_treedepth = 10, font_size = 11, font = \"Open Sans\"\n",
    ");"
   ]
  },
  {
   "cell_type": "code",
   "execution_count": 51,
   "id": "7266b24f-54db-4d34-96ea-4a761abc6fa2",
   "metadata": {},
   "outputs": [
    {
     "data": {
      "image/png": "[encoded data removed]"
     },
     "metadata": {},
     "output_type": "display_data"
    }
   ],
   "source": [
    "%%R -w 10 -h 5 --units in -r 100\n",
    "cowplot::plot_grid(\n",
    "    cowplot::ggdraw() + cowplot::draw_label(\"Non-distanced\", hjust = 3.3, fontface = \"bold\", size = 14, fontfamily = \"Open Sans\"),\n",
    "    subset_mcmc_1a_train_nd$model_checks$mu_par_dens,\n",
    "    cowplot::ggdraw() + cowplot::draw_label(\"Distanced\", hjust = 4.85, fontface = \"bold\", size = 14, fontfamily = \"Open Sans\"),\n",
    "    subset_mcmc_1a_train_dis$model_checks$mu_par_dens,\n",
    "    nrow = 4,\n",
    "    rel_heights = c(0.1, 1, 0.1, 1)\n",
    ")"
   ]
  },
  {
   "cell_type": "code",
   "execution_count": 52,
   "id": "a04a558e-af67-4253-aaa5-527f8be12ad3",
   "metadata": {},
   "outputs": [
    {
     "data": {
      "image/png": "[encoded data removed]"
     },
     "metadata": {},
     "output_type": "display_data"
    }
   ],
   "source": [
    "%%R -w 13.5 -h 5 --units in -r 100\n",
    "cowplot::plot_grid(\n",
    "    subset_mcmc_1a_train_nd$model_checks$diagnostics$trace + \n",
    "        ggplot2::ggtitle(\"Non-distanced\") + \n",
    "        ggplot2::theme(axis.text.x = ggplot2::element_text(size = 10)), \n",
    "    subset_mcmc_1a_train_nd$model_checks$diagnostics$rank_hist +\n",
    "        ggplot2::theme(axis.text.x = ggplot2::element_text(size = 10)),\n",
    "    subset_mcmc_1a_train_dis$model_checks$diagnostics$trace + \n",
    "        ggplot2::ggtitle(\"Distanced\") +\n",
    "        ggplot2::theme(axis.text.x = ggplot2::element_text(size = 10)), \n",
    "    subset_mcmc_1a_train_dis$model_checks$diagnostics$rank_hist + \n",
    "        ggplot2::theme(axis.text.x = ggplot2::element_text(size = 10)),\n",
    "    nrow = 2,\n",
    "    ncol = 2\n",
    ")"
   ]
  },
  {
   "cell_type": "code",
   "execution_count": 54,
   "id": "44ffb856-9407-4a7f-90e4-ed74ade5b587",
   "metadata": {},
   "outputs": [
    {
     "name": "stderr",
     "output_type": "stream",
     "text": [
      "R[write to console]: Model executable is up to date!\n",
      "\n"
     ]
    },
    {
     "name": "stdout",
     "output_type": "stream",
     "text": [
      "Running standalone generated quantities after 4 MCMC chains, all chains in parallel ...\n",
      "\n",
      "Chain 3 finished in 0.0 seconds.\n",
      "Chain 1 finished in 0.0 seconds.\n",
      "Chain 2 finished in 0.0 seconds.\n",
      "Chain 4 finished in 0.0 seconds.\n",
      "\n",
      "All 4 chains finished successfully.\n",
      "Mean chain execution time: 0.0 seconds.\n",
      "Total execution time: 14.4 seconds.\n"
     ]
    }
   ],
   "source": [
    "%%R\n",
    "fit_nd_1a <- readRDS(\"outputs/cmdstan/fit_pst_1a_nd_subsamp_mcmc_8000.RDS\")\n",
    "data_list_nd_1a <- readRDS(\"outputs/cmdstan/fit_pst_1a_nd_subsamp_stan_datalist.RDS\")\n",
    "\n",
    "subset_gq_1a_train_nd <- pstpipeline::generate_posterior_quantities(\n",
    "    fit_mcmc = fit_nd_1a, data_list = data_list_nd_1a, save_model_as = \"fit_pst_1a_nd_subsamp\", return_type = \"paths\"\n",
    ")"
   ]
  },
  {
   "cell_type": "code",
   "execution_count": 56,
   "id": "38b579a5-5e70-4024-9fd6-86223b7fc836",
   "metadata": {},
   "outputs": [
    {
     "name": "stderr",
     "output_type": "stream",
     "text": [
      "R[write to console]: Model executable is up to date!\n",
      "\n"
     ]
    },
    {
     "name": "stdout",
     "output_type": "stream",
     "text": [
      "Running standalone generated quantities after 4 MCMC chains, all chains in parallel ...\n",
      "\n",
      "Chain 4 finished in 0.0 seconds.\n",
      "Chain 1 finished in 0.0 seconds.\n",
      "Chain 2 finished in 0.0 seconds.\n",
      "Chain 3 finished in 0.0 seconds.\n",
      "\n",
      "All 4 chains finished successfully.\n",
      "Mean chain execution time: 0.0 seconds.\n",
      "Total execution time: 18.6 seconds.\n"
     ]
    }
   ],
   "source": [
    "%%R\n",
    "fit_dis_1a <- readRDS(\"outputs/cmdstan/fit_pst_1a_dis_subsamp_mcmc_8000.RDS\")\n",
    "data_list_dis_1a <- readRDS(\"outputs/cmdstan/fit_pst_1a_dis_subsamp_stan_datalist.RDS\")\n",
    "\n",
    "subset_gq_1a_train_nd <- pstpipeline::generate_posterior_quantities(\n",
    "    fit_mcmc = fit_dis_1a, data_list = data_list_dis_1a, save_model_as = \"fit_pst_1a_dis_subsamp\", return_type = \"paths\"\n",
    ")"
   ]
  }
 ],
 "metadata": {
  "kernelspec": {
   "display_name": "Python 3",
   "language": "python",
   "name": "python3"
  },
  "language_info": {
   "codemirror_mode": {
    "name": "ipython",
    "version": 3
   },
   "file_extension": ".py",
   "mimetype": "text/x-python",
   "name": "python",
   "nbconvert_exporter": "python",
   "pygments_lexer": "ipython3",
   "version": "3.9.1"
  }
 },
 "nbformat": 4,
 "nbformat_minor": 5
}
