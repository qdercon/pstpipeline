{
 "cells": [
  {
   "cell_type": "markdown",
   "id": "b18faf3b-124c-4c4b-8138-7ee36d75e292",
   "metadata": {},
   "source": [
    "## Fitting models using MCMC"
   ]
  },
  {
   "cell_type": "code",
   "execution_count": 1,
   "id": "205ea995-7254-435a-b5da-db23b532c45b",
   "metadata": {},
   "outputs": [
    {
     "name": "stderr",
     "output_type": "stream",
     "text": [
      "c:\\users\\qderc\\appdata\\local\\programs\\python\\python39\\lib\\site-packages\\rpy2\\robjects\\packages.py:366: UserWarning: The symbol 'quartz' is not in this R namespace/package.\n",
      "  warnings.warn(\n"
     ]
    }
   ],
   "source": [
    "import os\n",
    "os.chdir('..')\n",
    "    # run initially as cd will be the notebook folder otherwise\n",
    "%load_ext rpy2.ipython\n",
    "    # warnings about 'quartz' on Windows can be safely ignored.\n",
    "\n",
    "pal = [\"#ffc9b5\", \"#648767\", \"#b1ddf1\", \"#95a7ce\", \"#987284\", \"#3d5a80\"]\n",
    "light_pal = [\"#ffc9b5\", \"#b1ddf1\", \"#987284\"]"
   ]
  },
  {
   "cell_type": "code",
   "execution_count": 9,
   "id": "957f5541-3ee0-472d-938a-6e414992a44f",
   "metadata": {},
   "outputs": [
    {
     "name": "stdout",
     "output_type": "stream",
     "text": [
      "\u001b[36mi\u001b[39m Loading \u001b[34m\u001b[34mpstpipeline\u001b[34m\u001b[39m\n"
     ]
    }
   ],
   "source": [
    "%%R\n",
    "devtools::load_all()\n",
    "all_res_split <- readRDS(\"data/all_res_split.RDS\")"
   ]
  },
  {
   "cell_type": "code",
   "execution_count": 10,
   "id": "036865fa-7b94-4eee-8e97-fa1ac0d199da",
   "metadata": {},
   "outputs": [
    {
     "name": "stderr",
     "output_type": "stream",
     "text": [
      "R[write to console]: The C++ toolchain required for CmdStan is setup properly!\n",
      "\n",
      "R[write to console]: Model executable is up to date!\n",
      "\n"
     ]
    },
    {
     "name": "stdout",
     "output_type": "stream",
     "text": [
      "------------------------------------------------------------ \n",
      "EXPERIMENTAL ALGORITHM: \n",
      "  This procedure has not been thoroughly tested and may be unstable \n",
      "  or buggy. The interface is subject to change. \n",
      "------------------------------------------------------------ \n",
      "Gradient evaluation took 0.23769 seconds \n",
      "1000 transitions using 10 leapfrog steps per transition would take 2376.9 seconds. \n",
      "Adjust your expectations accordingly! \n",
      "Begin eta adaptation. \n",
      "Iteration:   1 / 250 [  0%]  (Adaptation) \n",
      "Iteration:  50 / 250 [ 20%]  (Adaptation) \n",
      "Iteration: 100 / 250 [ 40%]  (Adaptation) \n",
      "Iteration: 150 / 250 [ 60%]  (Adaptation) \n",
      "Iteration: 200 / 250 [ 80%]  (Adaptation) \n",
      "Success! Found best value [eta = 1] earlier than expected. \n",
      "Begin stochastic gradient ascent. \n",
      "  iter             ELBO   delta_ELBO_mean   delta_ELBO_med   notes  \n",
      "   100       -94759.722             1.000            1.000 \n",
      "   200       -94661.321             0.501            1.000 \n",
      "   300       -94340.639             0.335            0.003   MEDIAN ELBO CONVERGED \n",
      "Drawing a sample of size 1000 from the approximate posterior...  \n",
      "COMPLETED. \n",
      "Finished in  355.9 seconds.\n"
     ]
    }
   ],
   "source": [
    "%%R\n",
    "test_vb <- pstpipeline::fit_learning_model(\n",
    "    all_res_split$non_distanced, model = \"2a\", save_model_as = \"fit_pst_2a\", outputs = c(\"summary\", \"draws_df\")\n",
    ")"
   ]
  },
  {
   "cell_type": "code",
   "execution_count": null,
   "id": "caa61af9-6b93-4921-b149-eed68912f2a8",
   "metadata": {},
   "outputs": [],
   "source": []
  }
 ],
 "metadata": {
  "kernelspec": {
   "display_name": "Python 3",
   "language": "python",
   "name": "python3"
  },
  "language_info": {
   "codemirror_mode": {
    "name": "ipython",
    "version": 3
   },
   "file_extension": ".py",
   "mimetype": "text/x-python",
   "name": "python",
   "nbconvert_exporter": "python",
   "pygments_lexer": "ipython3",
   "version": "3.9.1"
  }
 },
 "nbformat": 4,
 "nbformat_minor": 5
}
